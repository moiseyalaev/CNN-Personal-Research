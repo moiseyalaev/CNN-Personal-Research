{
  "nbformat": 4,
  "nbformat_minor": 0,
  "metadata": {
    "accelerator": "GPU",
    "colab": {
      "name": "CNN final project code.ipynb",
      "provenance": [],
      "collapsed_sections": [],
      "include_colab_link": true
    },
    "kernelspec": {
      "display_name": "Python 3",
      "name": "python3"
    }
  },
  "cells": [
    {
      "cell_type": "markdown",
      "metadata": {
        "id": "view-in-github",
        "colab_type": "text"
      },
      "source": [
        "<a href=\"https://colab.research.google.com/github/moiseyalaev/CNN-Research-/blob/main/CNN_project_code.ipynb\" target=\"_parent\"><img src=\"https://colab.research.google.com/assets/colab-badge.svg\" alt=\"Open In Colab\"/></a>"
      ]
    },
    {
      "cell_type": "markdown",
      "metadata": {
        "id": "FDDisJ3iKCsf"
      },
      "source": [
        "Convolutional Neural Networks on MNIST dataset"
      ]
    },
    {
      "cell_type": "code",
      "metadata": {
        "colab": {
          "base_uri": "https://localhost:8080/"
        },
        "id": "oGJ953cNZaeL",
        "outputId": "820598aa-928a-4663-d746-ab57e39d3c41"
      },
      "source": [
        "import keras\n",
        "from keras.datasets import mnist\n",
        "from keras.models import Sequential, Model\n",
        "from keras.layers import Dense, Dropout, InputLayer, Activation, Conv2D, MaxPooling2D, Flatten\n",
        "import matplotlib.pyplot as plt\n",
        "\n",
        "# Read in MNIST dataset\n",
        "(x_train, y_train), (x_test, y_test) = mnist.load_data()\n",
        " \n",
        "# Reform MNIST dataset\n",
        "x_train  = x_train.reshape(60000, 28,28,1)\n",
        "x_test   = x_test.reshape(10000, 28,28,1)\n",
        "x_train  = x_train.astype('float32')\n",
        "x_test   = x_test.astype('float32')\n",
        "x_train /= 255\n",
        "x_test  /= 255\n",
        "y_train  = keras.utils.to_categorical(y_train, 10)\n",
        "y_test   = keras.utils.to_categorical(y_test, 10)\n",
        "\n",
        "# Build model\n",
        "model = Sequential()\n",
        "model.add(Conv2D(16,(2,2),padding = 'same', input_shape = (28,28,1)))\n",
        "model.add(MaxPooling2D(pool_size=(2, 2)))\n",
        "model.add(Conv2D(128, (3, 3), activation='relu'))\n",
        "model.add(Conv2D(256, (3, 3), activation='relu'))\n",
        "model.add(MaxPooling2D(pool_size=(2, 2)))\n",
        "model.add(Dropout(0.5))\n",
        "model.add(Flatten())\n",
        "model.add(Dense(128, activation='relu'))\n",
        "model.add(Dropout(0.25))\n",
        "model.add(Dense(10))\n",
        "# final layer. Use softmax function to output a 10 by 1 array of floats that add up to 1\n",
        "model.add(Activation('softmax'))\n",
        "\n",
        "model.compile(loss='categorical_crossentropy', optimizer='Adam', metrics=['accuracy'])\n",
        "\n",
        "model.summary()\n",
        "\n",
        "# Learning\n",
        "epochs = 10\n",
        "batch_size = 1024\n",
        "history = model.fit(x_train, y_train, batch_size=batch_size, epochs=epochs, validation_split = 0.1)\n",
        "\n",
        "# epochs: number of times we go through the entire 60000 dataset\n",
        "# batch size: Divide the inputs used in one backward/forward pass into mini-batches. \n",
        "# making smaller mini batches increases accuracy but requires more computation\n"
      ],
      "execution_count": null,
      "outputs": [
        {
          "output_type": "stream",
          "text": [
            "Downloading data from https://storage.googleapis.com/tensorflow/tf-keras-datasets/mnist.npz\n",
            "11493376/11490434 [==============================] - 0s 0us/step\n",
            "Model: \"sequential\"\n",
            "_________________________________________________________________\n",
            "Layer (type)                 Output Shape              Param #   \n",
            "=================================================================\n",
            "conv2d (Conv2D)              (None, 28, 28, 16)        80        \n",
            "_________________________________________________________________\n",
            "max_pooling2d (MaxPooling2D) (None, 14, 14, 16)        0         \n",
            "_________________________________________________________________\n",
            "conv2d_1 (Conv2D)            (None, 12, 12, 128)       18560     \n",
            "_________________________________________________________________\n",
            "conv2d_2 (Conv2D)            (None, 10, 10, 256)       295168    \n",
            "_________________________________________________________________\n",
            "max_pooling2d_1 (MaxPooling2 (None, 5, 5, 256)         0         \n",
            "_________________________________________________________________\n",
            "dropout (Dropout)            (None, 5, 5, 256)         0         \n",
            "_________________________________________________________________\n",
            "flatten (Flatten)            (None, 6400)              0         \n",
            "_________________________________________________________________\n",
            "dense (Dense)                (None, 128)               819328    \n",
            "_________________________________________________________________\n",
            "dropout_1 (Dropout)          (None, 128)               0         \n",
            "_________________________________________________________________\n",
            "dense_1 (Dense)              (None, 10)                1290      \n",
            "_________________________________________________________________\n",
            "activation (Activation)      (None, 10)                0         \n",
            "=================================================================\n",
            "Total params: 1,134,426\n",
            "Trainable params: 1,134,426\n",
            "Non-trainable params: 0\n",
            "_________________________________________________________________\n",
            "Epoch 1/10\n",
            "53/53 [==============================] - 2s 38ms/step - loss: 0.4873 - accuracy: 0.8454 - val_loss: 0.0805 - val_accuracy: 0.9762\n",
            "Epoch 2/10\n",
            "53/53 [==============================] - 2s 29ms/step - loss: 0.1020 - accuracy: 0.9692 - val_loss: 0.0509 - val_accuracy: 0.9862\n",
            "Epoch 3/10\n",
            "53/53 [==============================] - 2s 29ms/step - loss: 0.0696 - accuracy: 0.9780 - val_loss: 0.0484 - val_accuracy: 0.9852\n",
            "Epoch 4/10\n",
            "53/53 [==============================] - 2s 29ms/step - loss: 0.0557 - accuracy: 0.9824 - val_loss: 0.0374 - val_accuracy: 0.9888\n",
            "Epoch 5/10\n",
            "53/53 [==============================] - 2s 29ms/step - loss: 0.0504 - accuracy: 0.9845 - val_loss: 0.0362 - val_accuracy: 0.9900\n",
            "Epoch 6/10\n",
            "53/53 [==============================] - 2s 29ms/step - loss: 0.0395 - accuracy: 0.9877 - val_loss: 0.0336 - val_accuracy: 0.9908\n",
            "Epoch 7/10\n",
            "53/53 [==============================] - 2s 29ms/step - loss: 0.0365 - accuracy: 0.9885 - val_loss: 0.0310 - val_accuracy: 0.9908\n",
            "Epoch 8/10\n",
            "53/53 [==============================] - 2s 29ms/step - loss: 0.0336 - accuracy: 0.9890 - val_loss: 0.0292 - val_accuracy: 0.9920\n",
            "Epoch 9/10\n",
            "53/53 [==============================] - 2s 29ms/step - loss: 0.0288 - accuracy: 0.9910 - val_loss: 0.0284 - val_accuracy: 0.9922\n",
            "Epoch 10/10\n",
            "53/53 [==============================] - 2s 29ms/step - loss: 0.0266 - accuracy: 0.9913 - val_loss: 0.0276 - val_accuracy: 0.9915\n"
          ],
          "name": "stdout"
        }
      ]
    },
    {
      "cell_type": "code",
      "metadata": {
        "colab": {
          "base_uri": "https://localhost:8080/"
        },
        "id": "j-a-fVg2rcEf",
        "outputId": "702eb68e-9d7d-48a4-e733-12e19aeec406"
      },
      "source": [
        "# Evaluate\n",
        "score = model.evaluate(x_test, y_test)\n",
        "print()\n",
        "print('Test loss:', score[0])\n",
        "print('Test accuracy:', score[1])"
      ],
      "execution_count": null,
      "outputs": [
        {
          "output_type": "stream",
          "text": [
            "313/313 [==============================] - 1s 2ms/step - loss: 0.0206 - accuracy: 0.9928\n",
            "\n",
            "Test loss: 0.02058406174182892\n",
            "Test accuracy: 0.9927999973297119\n"
          ],
          "name": "stdout"
        }
      ]
    },
    {
      "cell_type": "code",
      "metadata": {
        "colab": {
          "base_uri": "https://localhost:8080/",
          "height": 279
        },
        "id": "x-37OKtsZeZx",
        "outputId": "800c521a-afa9-421d-b9c4-1c3d0ba6e89f"
      },
      "source": [
        "loss     = history.history['loss']\n",
        "val_loss = history.history['val_loss']\n",
        "\n",
        "nb_epoch = len(loss)\n",
        "plt.plot(range(nb_epoch), loss,     marker='.', label='loss')\n",
        "plt.plot(range(nb_epoch), val_loss, marker='.', label='val_loss')\n",
        "plt.legend(loc='best', fontsize=10)\n",
        "plt.grid()\n",
        "plt.xlabel('epoch')\n",
        "plt.ylabel('loss')\n",
        "plt.show()"
      ],
      "execution_count": null,
      "outputs": [
        {
          "output_type": "display_data",
          "data": {
            "image/png": "[encoded data removed]",
            "text/plain": [
              "<Figure size 432x288 with 1 Axes>"
            ]
          },
          "metadata": {
            "tags": [],
            "needs_background": "light"
          }
        }
      ]
    },
    {
      "cell_type": "code",
      "metadata": {
        "colab": {
          "base_uri": "https://localhost:8080/",
          "height": 279
        },
        "id": "jvN7YVpPqL8O",
        "outputId": "e7ebdfca-61ea-45ea-f13a-d95ea4ebedb5"
      },
      "source": [
        "accuracy     = history.history['accuracy']\n",
        "val_accuracy = history.history['val_accuracy']\n",
        "\n",
        "nb_epoch = len(loss)\n",
        "plt.plot(range(nb_epoch), accuracy,     marker='.', label='accuracy')\n",
        "plt.plot(range(nb_epoch), val_accuracy, marker='.', label='val_accuracy')\n",
        "plt.legend(loc='best', fontsize=10)\n",
        "plt.grid()\n",
        "plt.xlabel('epoch')\n",
        "plt.ylabel('accuracy')\n",
        "plt.show()"
      ],
      "execution_count": null,
      "outputs": [
        {
          "output_type": "display_data",
          "data": {
            "image/png": "[encoded data removed]",
            "text/plain": [
              "<Figure size 432x288 with 1 Axes>"
            ]
          },
          "metadata": {
            "tags": [],
            "needs_background": "light"
          }
        }
      ]
    },
    {
      "cell_type": "markdown",
      "metadata": {
        "id": "lx3ReF4XJga4"
      },
      "source": [
        "Visualization of the model's handling of images"
      ]
    },
    {
      "cell_type": "code",
      "metadata": {
        "id": "G_fRdJga_YDw",
        "colab": {
          "base_uri": "https://localhost:8080/",
          "height": 267
        },
        "outputId": "10bb1f60-58b1-4b0b-feda-79575d04bb68"
      },
      "source": [
        "from PIL import Image\n",
        "import numpy as np\n",
        "from matplotlib import cm\n",
        "\n",
        "example = x_test[0:6]\n",
        "\n",
        "for i in range(6):\n",
        "  plt.subplot(2, 3, i+1)\n",
        "  plt.imshow(example[i].reshape(28, 28), cmap=cm.gray_r)"
      ],
      "execution_count": null,
      "outputs": [
        {
          "output_type": "display_data",
          "data": {
            "image/png": "[encoded data removed]",
            "text/plain": [
              "<Figure size 432x288 with 6 Axes>"
            ]
          },
          "metadata": {
            "tags": [],
            "needs_background": "light"
          }
        }
      ]
    },
    {
      "cell_type": "code",
      "metadata": {
        "colab": {
          "base_uri": "https://localhost:8080/",
          "height": 265
        },
        "id": "IXJS1JzxPHac",
        "outputId": "790f2a54-fa41-4cef-b56a-ae7baee8100b"
      },
      "source": [
        "predict = model.predict(example) # output after softmax function\n",
        "digits = [0,1,2,3,4,5,6,7,8,9]\n",
        "for i in range(6):\n",
        "  plt.subplot(2, 3, i+1)\n",
        "  plt.bar(digits, predict[i])"
      ],
      "execution_count": null,
      "outputs": [
        {
          "output_type": "display_data",
          "data": {
            "image/png": "[encoded data removed]",
            "text/plain": [
              "<Figure size 432x288 with 6 Axes>"
            ]
          },
          "metadata": {
            "tags": [],
            "needs_background": "light"
          }
        }
      ]
    },
    {
      "cell_type": "markdown",
      "metadata": {
        "id": "4sY212hmKgVL"
      },
      "source": [
        "The feature maps of the first image in the testing dataset, after the first convolution and pooling layers."
      ]
    },
    {
      "cell_type": "code",
      "metadata": {
        "colab": {
          "base_uri": "https://localhost:8080/",
          "height": 252
        },
        "id": "auIAi9Jid_Q9",
        "outputId": "7cd31744-bd50-4f17-9205-b9575b9edcf3"
      },
      "source": [
        "model = Model(inputs=model.inputs, outputs=model.layers[1].output)\n",
        "img = x_test[0]\n",
        "img = img.reshape(-1,28,28,1)\n",
        "feature_maps = model.predict(img)\n",
        "square = 4\n",
        "ix = 1\n",
        "\n",
        "\n",
        "for _ in range(square):\n",
        "\tfor _ in range(square):\n",
        "\t\t# specify subplot and turn of axis\n",
        "\t\tax = plt.subplot(square, square, ix)\n",
        "\t\tax.set_xticks([])\n",
        "\t\tax.set_yticks([])\n",
        "\t\t# plot filter channel in grayscale\n",
        "\t\tplt.imshow(feature_maps[0, :, :, ix-1], cmap='gray')\n",
        "\t\tix += 1\n",
        "# show the figure\n",
        "plt.show()"
      ],
      "execution_count": null,
      "outputs": [
        {
          "output_type": "display_data",
          "data": {
            "image/png": "[encoded data removed]",
            "text/plain": [
              "<Figure size 432x288 with 16 Axes>"
            ]
          },
          "metadata": {
            "tags": []
          }
        }
      ]
    }
  ]
}